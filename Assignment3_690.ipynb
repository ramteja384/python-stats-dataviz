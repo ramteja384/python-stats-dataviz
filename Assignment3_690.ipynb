{
  "nbformat": 4,
  "nbformat_minor": 0,
  "metadata": {
    "colab": {
      "provenance": [],
      "authorship_tag": "ABX9TyPf4B06bmBv4lMNWw4ITsOb",
      "include_colab_link": true
    },
    "kernelspec": {
      "name": "python3",
      "display_name": "Python 3"
    },
    "language_info": {
      "name": "python"
    }
  },
  "cells": [
    {
      "cell_type": "markdown",
      "metadata": {
        "id": "view-in-github",
        "colab_type": "text"
      },
      "source": [
        "<a href=\"https://colab.research.google.com/github/ramteja384/python-stats-dataviz/blob/master/Assignment3_690.ipynb\" target=\"_parent\"><img src=\"https://colab.research.google.com/assets/colab-badge.svg\" alt=\"Open In Colab\"/></a>"
      ]
    },
    {
      "cell_type": "markdown",
      "source": [],
      "metadata": {
        "id": "S16_6gIzcnBv"
      }
    },
    {
      "cell_type": "code",
      "source": [
        "import random\n",
        "rand_numbers = []\n",
        "for i in range(0, 100):                              \n",
        "   rand_numbers.append(random.randint(0, 9))       \n",
        "print(\"100 Random Integers:\")\n",
        "print(rand_numbers)\n",
        "print()\n",
        "\n",
        "import numpy as rand_numbers                          \n",
        "a= rand_numbers.random.randint(0,9, size = (10,10))\n",
        "print(\"The 10*10 Matrix is:\")\n",
        "print()\n",
        "for row in a:\n",
        "  for col in row:\n",
        "    print(col,end=' ')\n",
        "  print()\n",
        "\n",
        "  a1=[]\n",
        "for row in a:\n",
        "  a1.append(list(map(str,row))) \n",
        "for row_index in range(len(a1)):\n",
        "  for col_index in range(len(a1[0])):\n",
        "    if int(a1[row_index][col_index])%2 != 0:\n",
        "      a1[row_index][col_index]=\"@\"\n",
        "for row in a1:\n",
        "  for col in row:\n",
        "    print(col,end=' ')\n",
        "  print()\n",
        "\n",
        "for row in a:\n",
        "  for col in row:\n",
        "    print(col,end=' ')\n",
        "  print(\"*\",sum(row)) \n",
        "\n",
        "for _ in range(2*len(a[0])+2):\n",
        "  print(\"*\",sep='',end='')\n",
        "print()\n",
        "for row in a:\n",
        "  print(\"*\",sep='',end='')\n",
        "  for col in row:\n",
        "    print(col,end=' ')\n",
        "  print(\"*\")\n",
        "for _ in range(2*len(a[0])+2):\n",
        "  print(\"*\",sep='',end='')\n",
        "print()\n",
        "\n",
        "def column_sum(matrix):\n",
        "  sum_column=[0] * len(matrix[0])\n",
        "  for row_index in range(len(matrix)):\n",
        "    for col_index in range(len(matrix[0])):\n",
        "      sum_column[col_index]+=matrix[row_index][col_index]\n",
        "  return sum_column\n",
        "\n",
        "for row in a:\n",
        "  for col in row:\n",
        "    print(col,end='  ')\n",
        "  print(\"*\",sum(row))                          \n",
        "\n",
        "for _ in range(len(a[0])):\n",
        "  print(\"*\",end='  ')\n",
        "print()\n",
        "ans=column_sum(a)\n",
        "for ele in ans:\n",
        "  print(ele,end=' ')\n"
      ],
      "metadata": {
        "colab": {
          "base_uri": "https://localhost:8080/"
        },
        "id": "RuRhhm6Di_VC",
        "outputId": "e9a8ef9c-eec1-43fd-fc4b-65779f859b85"
      },
      "execution_count": 14,
      "outputs": [
        {
          "output_type": "stream",
          "name": "stdout",
          "text": [
            "100 Random Integers:\n",
            "[0, 5, 4, 5, 5, 1, 6, 7, 2, 9, 4, 7, 1, 5, 2, 6, 2, 1, 7, 4, 3, 6, 1, 1, 8, 4, 0, 8, 1, 9, 3, 6, 8, 1, 7, 9, 0, 7, 7, 4, 0, 2, 3, 7, 3, 3, 6, 6, 1, 3, 8, 2, 7, 2, 5, 2, 9, 7, 9, 0, 4, 2, 5, 9, 8, 1, 0, 8, 6, 7, 3, 9, 6, 5, 4, 8, 8, 0, 3, 6, 1, 2, 8, 6, 7, 6, 0, 3, 2, 7, 2, 9, 7, 2, 3, 7, 5, 1, 7, 0]\n",
            "\n",
            "The 10*10 Matrix is:\n",
            "\n",
            "0 8 4 7 0 5 1 8 8 3 \n",
            "3 7 8 1 6 0 4 0 8 4 \n",
            "4 1 6 4 1 8 8 2 1 6 \n",
            "6 7 0 7 7 3 7 7 1 1 \n",
            "0 0 8 6 1 4 7 2 8 8 \n",
            "5 3 1 4 3 4 8 5 8 4 \n",
            "8 5 0 8 4 5 0 3 3 1 \n",
            "2 2 3 3 6 4 5 3 1 0 \n",
            "2 7 3 5 3 1 1 6 1 8 \n",
            "5 6 8 2 1 2 7 3 8 4 \n",
            "0 8 4 @ 0 @ @ 8 8 @ \n",
            "@ @ 8 @ 6 0 4 0 8 4 \n",
            "4 @ 6 4 @ 8 8 2 @ 6 \n",
            "6 @ 0 @ @ @ @ @ @ @ \n",
            "0 0 8 6 @ 4 @ 2 8 8 \n",
            "@ @ @ 4 @ 4 8 @ 8 4 \n",
            "8 @ 0 8 4 @ 0 @ @ @ \n",
            "2 2 @ @ 6 4 @ @ @ 0 \n",
            "2 @ @ @ @ @ @ 6 @ 8 \n",
            "@ 6 8 2 @ 2 @ @ 8 4 \n",
            "0 8 4 7 0 5 1 8 8 3 * 44\n",
            "3 7 8 1 6 0 4 0 8 4 * 41\n",
            "4 1 6 4 1 8 8 2 1 6 * 41\n",
            "6 7 0 7 7 3 7 7 1 1 * 46\n",
            "0 0 8 6 1 4 7 2 8 8 * 44\n",
            "5 3 1 4 3 4 8 5 8 4 * 45\n",
            "8 5 0 8 4 5 0 3 3 1 * 37\n",
            "2 2 3 3 6 4 5 3 1 0 * 29\n",
            "2 7 3 5 3 1 1 6 1 8 * 37\n",
            "5 6 8 2 1 2 7 3 8 4 * 46\n",
            "**********************\n",
            "*0 8 4 7 0 5 1 8 8 3 *\n",
            "*3 7 8 1 6 0 4 0 8 4 *\n",
            "*4 1 6 4 1 8 8 2 1 6 *\n",
            "*6 7 0 7 7 3 7 7 1 1 *\n",
            "*0 0 8 6 1 4 7 2 8 8 *\n",
            "*5 3 1 4 3 4 8 5 8 4 *\n",
            "*8 5 0 8 4 5 0 3 3 1 *\n",
            "*2 2 3 3 6 4 5 3 1 0 *\n",
            "*2 7 3 5 3 1 1 6 1 8 *\n",
            "*5 6 8 2 1 2 7 3 8 4 *\n",
            "**********************\n",
            "0  8  4  7  0  5  1  8  8  3  * 44\n",
            "3  7  8  1  6  0  4  0  8  4  * 41\n",
            "4  1  6  4  1  8  8  2  1  6  * 41\n",
            "6  7  0  7  7  3  7  7  1  1  * 46\n",
            "0  0  8  6  1  4  7  2  8  8  * 44\n",
            "5  3  1  4  3  4  8  5  8  4  * 45\n",
            "8  5  0  8  4  5  0  3  3  1  * 37\n",
            "2  2  3  3  6  4  5  3  1  0  * 29\n",
            "2  7  3  5  3  1  1  6  1  8  * 37\n",
            "5  6  8  2  1  2  7  3  8  4  * 46\n",
            "*  *  *  *  *  *  *  *  *  *  \n",
            "35 46 41 47 32 36 48 39 47 39 "
          ]
        }
      ]
    },
    {
      "cell_type": "markdown",
      "source": [],
      "metadata": {
        "id": "XN7BKaDwcwax"
      }
    }
  ]
}