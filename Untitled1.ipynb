{
  "nbformat": 4,
  "nbformat_minor": 0,
  "metadata": {
    "colab": {
      "provenance": [],
      "authorship_tag": "ABX9TyOTjueHXp1nLhXHWm7DS0os",
      "include_colab_link": true
    },
    "kernelspec": {
      "name": "python3",
      "display_name": "Python 3"
    },
    "language_info": {
      "name": "python"
    }
  },
  "cells": [
    {
      "cell_type": "markdown",
      "metadata": {
        "id": "view-in-github",
        "colab_type": "text"
      },
      "source": [
        "<a href=\"https://colab.research.google.com/github/ramteja384/python-stats-dataviz/blob/master/Untitled1.ipynb\" target=\"_parent\"><img src=\"https://colab.research.google.com/assets/colab-badge.svg\" alt=\"Open In Colab\"/></a>"
      ]
    },
    {
      "cell_type": "markdown",
      "source": [],
      "metadata": {
        "id": "S16_6gIzcnBv"
      }
    },
    {
      "cell_type": "code",
      "source": [
        "years= \"1991 1992 1993 1994 1995 1996 1997 1995 1990 1992 1995\"\n",
        "print(years)\n",
        "years_list= years.split(\" \")\n",
        "print (years_list)"
      ],
      "metadata": {
        "colab": {
          "base_uri": "https://localhost:8080/"
        },
        "id": "dWOQloVIcv8Q",
        "outputId": "b610e698-cf04-4963-864b-10d863b6ddba"
      },
      "execution_count": 9,
      "outputs": [
        {
          "output_type": "stream",
          "name": "stdout",
          "text": [
            "1991 1992 1993 1994 1995 1996 1997 1995 1990 1992 1995\n",
            "['1991', '1992', '1993', '1994', '1995', '1996', '1997', '1995', '1990', '1992', '1995']\n"
          ]
        }
      ]
    },
    {
      "cell_type": "code",
      "source": [
        "y = [3.5, 23, -6]\n",
        "total=0\n",
        "for x in y:\n",
        "  total= total + x\n",
        "print(total)"
      ],
      "metadata": {
        "colab": {
          "base_uri": "https://localhost:8080/"
        },
        "id": "A9Ebz1y1g38r",
        "outputId": "2a41e2c4-793b-4c67-ce75-4dfb405b3f11"
      },
      "execution_count": 14,
      "outputs": [
        {
          "output_type": "stream",
          "name": "stdout",
          "text": [
            "20.5\n"
          ]
        }
      ]
    },
    {
      "cell_type": "code",
      "source": [
        "years_list[2:-5]"
      ],
      "metadata": {
        "colab": {
          "base_uri": "https://localhost:8080/"
        },
        "id": "A04hFeIpiPtx",
        "outputId": "730b9ee7-ef0f-4ed3-873f-c87399039fe6"
      },
      "execution_count": 20,
      "outputs": [
        {
          "output_type": "execute_result",
          "data": {
            "text/plain": [
              "['1993', '1994', '1995', '1996']"
            ]
          },
          "metadata": {},
          "execution_count": 20
        }
      ]
    },
    {
      "cell_type": "code",
      "source": [
        "from datetime import date\n",
        "c= date.today().year\n",
        "print(c)"
      ],
      "metadata": {
        "colab": {
          "base_uri": "https://localhost:8080/"
        },
        "id": "RuRhhm6Di_VC",
        "outputId": "262b7297-3a91-48f8-a759-a90058158874"
      },
      "execution_count": 31,
      "outputs": [
        {
          "output_type": "stream",
          "name": "stdout",
          "text": [
            "2022\n"
          ]
        }
      ]
    },
    {
      "cell_type": "markdown",
      "source": [],
      "metadata": {
        "id": "XN7BKaDwcwax"
      }
    }
  ]
}